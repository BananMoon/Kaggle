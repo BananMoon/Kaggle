{
 "cells": [
  {
   "cell_type": "markdown",
   "id": "olive-imaging",
   "metadata": {},
   "source": [
    "> 『파이썬 머신러닝 완벽 가이드』를 공부하고 정리한 글입니다."
   ]
  },
  {
   "cell_type": "code",
   "execution_count": 1,
   "id": "japanese-northeast",
   "metadata": {},
   "outputs": [
    {
     "data": {
      "text/plain": [
       "'0.23.2'"
      ]
     },
     "execution_count": 1,
     "metadata": {},
     "output_type": "execute_result"
    }
   ],
   "source": [
    "# 사이킷런 버전 확인\n",
    "import sklearn\n",
    "sklearn.__version__"
   ]
  },
  {
   "cell_type": "markdown",
   "id": "personal-location",
   "metadata": {},
   "source": [
    "# 01 데이터 분류 프로세스\n",
    "#### 0. 데이터셋 준비 및 관련 모듈 로드\n",
    "- 분석에 사용할 데이터와 라이브러리 불러오기\n",
    "#### 1. 데이터셋 분리 : train_test_split()\n",
    "- 데이터를 학습데이터와 테스트 데이터로 분리\n",
    "#### 2. 모델 학습 : fit()\n",
    "- 학습 데이터를 기반으로 ML 알고리즘을 적용해 모델 학습\n",
    "#### 3. 예측 수행: predict()\n",
    "- 학습된 모델을 이용해 테스트데이터 분류, 예측 수행\n",
    "#### 4. 평가 : accuracy_score()\n",
    "- 예측값과 테스트데이터의 실제값 비교를 통한 성능 평가"
   ]
  },
  {
   "cell_type": "markdown",
   "id": "generous-shirt",
   "metadata": {},
   "source": [
    "### 0. 데이터셋 준비 및 관련 모듈 로드"
   ]
  },
  {
   "cell_type": "code",
   "execution_count": 5,
   "id": "otherwise-packaging",
   "metadata": {},
   "outputs": [
    {
     "name": "stdout",
     "output_type": "stream",
     "text": [
      "iris target 값 : [0 0 0 0 0 0 0 0 0 0 0 0 0 0 0 0 0 0 0 0 0 0 0 0 0 0 0 0 0 0 0 0 0 0 0 0 0\n",
      " 0 0 0 0 0 0 0 0 0 0 0 0 0 1 1 1 1 1 1 1 1 1 1 1 1 1 1 1 1 1 1 1 1 1 1 1 1\n",
      " 1 1 1 1 1 1 1 1 1 1 1 1 1 1 1 1 1 1 1 1 1 1 1 1 1 1 2 2 2 2 2 2 2 2 2 2 2\n",
      " 2 2 2 2 2 2 2 2 2 2 2 2 2 2 2 2 2 2 2 2 2 2 2 2 2 2 2 2 2 2 2 2 2 2 2 2 2\n",
      " 2 2]\n",
      "iris target 명 : ['setosa' 'versicolor' 'virginica']\n"
     ]
    },
    {
     "data": {
      "text/html": [
       "<div>\n",
       "<style scoped>\n",
       "    .dataframe tbody tr th:only-of-type {\n",
       "        vertical-align: middle;\n",
       "    }\n",
       "\n",
       "    .dataframe tbody tr th {\n",
       "        vertical-align: top;\n",
       "    }\n",
       "\n",
       "    .dataframe thead th {\n",
       "        text-align: right;\n",
       "    }\n",
       "</style>\n",
       "<table border=\"1\" class=\"dataframe\">\n",
       "  <thead>\n",
       "    <tr style=\"text-align: right;\">\n",
       "      <th></th>\n",
       "      <th>sepal length (cm)</th>\n",
       "      <th>sepal width (cm)</th>\n",
       "      <th>petal length (cm)</th>\n",
       "      <th>petal width (cm)</th>\n",
       "      <th>label</th>\n",
       "    </tr>\n",
       "  </thead>\n",
       "  <tbody>\n",
       "    <tr>\n",
       "      <th>0</th>\n",
       "      <td>5.1</td>\n",
       "      <td>3.5</td>\n",
       "      <td>1.4</td>\n",
       "      <td>0.2</td>\n",
       "      <td>0</td>\n",
       "    </tr>\n",
       "    <tr>\n",
       "      <th>1</th>\n",
       "      <td>4.9</td>\n",
       "      <td>3.0</td>\n",
       "      <td>1.4</td>\n",
       "      <td>0.2</td>\n",
       "      <td>0</td>\n",
       "    </tr>\n",
       "    <tr>\n",
       "      <th>2</th>\n",
       "      <td>4.7</td>\n",
       "      <td>3.2</td>\n",
       "      <td>1.3</td>\n",
       "      <td>0.2</td>\n",
       "      <td>0</td>\n",
       "    </tr>\n",
       "  </tbody>\n",
       "</table>\n",
       "</div>"
      ],
      "text/plain": [
       "   sepal length (cm)  sepal width (cm)  petal length (cm)  petal width (cm)  \\\n",
       "0                5.1               3.5                1.4               0.2   \n",
       "1                4.9               3.0                1.4               0.2   \n",
       "2                4.7               3.2                1.3               0.2   \n",
       "\n",
       "   label  \n",
       "0      0  \n",
       "1      0  \n",
       "2      0  "
      ]
     },
     "execution_count": 5,
     "metadata": {},
     "output_type": "execute_result"
    }
   ],
   "source": [
    "# 붓꽃 데이터 셋\n",
    "from sklearn.datasets import load_iris\n",
    "# ML 알고리즘- 의사결정트리 알고리즘 수행하기위한 클래스\n",
    "from sklearn.tree import DecisionTreeClassifier\n",
    "# 데이터 세트를 학습 데이터와 테스트 데이터로 분리하기 위한 API\n",
    "from sklearn.model_selection import train_test_split\n",
    "# 데이터 처리를 위한 라이브러리\n",
    "import pandas as pd\n",
    "import numpy as np\n",
    "# 붗꽃 데이터 세트 로딩\n",
    "iris = load_iris()\n",
    "\n",
    "#iris['data']는 Iris데이터 세트에서 feature만으로 된 데이터를 numpy로 갖고있음.\n",
    "iris_data = iris['data']\n",
    "\n",
    "# iris['target']은 붓꽃 데이터 세트에서 레이블(결정 값) 데이터를 numpy로 갖고있음.\n",
    "iris_label = iris.target\n",
    "print('iris target 값 :', iris_label)\n",
    "print('iris target 명 :', iris.target_names) # target_names는 레이블에 해당하는 이름(0:setosa, 1:versicolor, 2:virginica)\n",
    "\n",
    "# 붗꽃 데이터 세트를 자세히 보기 위해 DF로 변환\n",
    "iris_df = pd.DataFrame(data=iris_data, columns=iris.feature_names)\n",
    "iris_df['label']=iris.target\n",
    "iris_df.head(3)"
   ]
  },
  {
   "cell_type": "markdown",
   "id": "directed-spring",
   "metadata": {},
   "source": [
    "### 1. 데이터셋 분리\n",
    "train_test_split(\n",
    "         feature_data_set(피처로 사용할 데이터(x)), label_data_set(레이블로사용할 데이터(y)), \n",
    "         test_size=전체 데이터셋 중 테스트 데이터셋의 크기, random_state=난수값 지정)\n"
   ]
  },
  {
   "cell_type": "code",
   "execution_count": 8,
   "id": "pressing-advantage",
   "metadata": {},
   "outputs": [],
   "source": [
    "# 피처 데이터 세트로 iris_data, 레이블 데이터로 iris_lable 이용\n",
    "X_train, X_test, y_train, y_test = train_test_split(iris_data, iris_label, test_size=0.2, random_state=11)\n",
    "\n",
    "# train 이 학습용\n",
    "# test가 검사용"
   ]
  },
  {
   "cell_type": "markdown",
   "id": "massive-alfred",
   "metadata": {},
   "source": [
    "### 2. 모델 학습\n",
    "- 머신러닝 분류 알고리즘 : 의사결정트리 이용 DecisionTreeClassifier()"
   ]
  },
  {
   "cell_type": "code",
   "execution_count": 9,
   "id": "polar-enzyme",
   "metadata": {},
   "outputs": [
    {
     "data": {
      "text/plain": [
       "DecisionTreeClassifier(random_state=11)"
      ]
     },
     "execution_count": 9,
     "metadata": {},
     "output_type": "execute_result"
    }
   ],
   "source": [
    "# DecisionTreeClassifier 객체 생성\n",
    "# random_state 역시 예제 코드 수행시마다 동일한 학습/예측결과를 출력하기 위해 같은 랜덤값을 뽑겠다는 의미\n",
    "dt_clf = DecisionTreeClassifier(random_state=11)\n",
    "\n",
    "\n",
    "# 모델 학습 : fit() -> 생성된 DecisionTreeClassifier 객체의 fit() 메소드를 이용해 학습 수행\n",
    "dt_clf.fit(X_train, y_train) # 학습 데이터 X_train, y_train을 기반으로 학습 완료!"
   ]
  },
  {
   "cell_type": "markdown",
   "id": "opposite-pattern",
   "metadata": {},
   "source": [
    "### 3. 예측 수행\n",
    "- predict()\n",
    "- 반드시 학습데이터 아닌 다른 데이터 이용해야한다. 일반적으로 test 데이터를 이용함.\n",
    "- DecisionTreeClassifier 객체의 predict() 메서드로 테스트용 피처 데이터세트(X_test)를 입력하면 학습된 모델 기반에서 테스트 데이터 세트에 대한 예측값을 반환."
   ]
  },
  {
   "cell_type": "code",
   "execution_count": 10,
   "id": "republican-genome",
   "metadata": {},
   "outputs": [],
   "source": [
    "# 학습이 완료된 DecisionTreeClassifier 객체에서 테스트 데이터로 예측 수행\n",
    "pred = dt_clf.predict(X_test)"
   ]
  },
  {
   "cell_type": "markdown",
   "id": "assisted-aaron",
   "metadata": {},
   "source": [
    "###  4. 평가\n",
    "- accuracy_score()\n",
    "- 머신러닝 분류 모델의 성능 평가 지표 : Accuracy, Recall, Precision, F1 score 등\n",
    "- 여기서는 정확도(Accuracy) 이용"
   ]
  },
  {
   "cell_type": "code",
   "execution_count": 11,
   "id": "acquired-chapel",
   "metadata": {},
   "outputs": [
    {
     "name": "stdout",
     "output_type": "stream",
     "text": [
      "예측 정확도: 0.9333\n"
     ]
    }
   ],
   "source": [
    "# 예측 결과를 기반으로 의사결정트리 기반 모델의 예측 성능을 평가\n",
    "# 정확도 측정을 위해 제공하는 함수 accuracy_score\n",
    "from sklearn.metrics import accuracy_score\n",
    "\n",
    "# y_test : 실제값, pred : 예측값\n",
    "print('예측 정확도: {0:.4f}'.format(accuracy_score(y_test, pred)))"
   ]
  },
  {
   "cell_type": "markdown",
   "id": "biological-shoot",
   "metadata": {},
   "source": [
    "# 02 교차 검증\n",
    "- 'test set에 과적합 되는 문제'는 test set이 데이터 중 일부분으로 고정되어있고, 이 일부분의 데이터 셋에 대해 성능이 잘 나오도록 파라미터를 반복적으로 튜닝하기 때문에 발생.\n",
    "- 교차검증은 데이터의 모든 부분을 사용하여 모델을 검증하고, test set을 하나로 고정하지 않음.\n",
    "- 모델이 잘 적합되었는지 알아보기 위해 충분한 평과 과정을 통해 좋은 성능의 모델을 만들고자 실시한다.\n",
    "- 데이터의 편중을 막아준다. (과적합 방지)\n",
    "- 기본적인 교차 검증 방법 : K-fold 교차 검증\n",
    "\n",
    "\n",
    "### K-fold 교차검증\n",
    "- K개의 데이터 fold 세트를 만들어서 다시 K개로 쪼갠 후, K-1개는 train으로 나머지 한개는 Validation data로 사용하여 성능을 구한다.\n",
    "- 쉽게 말해서, **test set을 하나로 고정하지 않고, K개의 데이터셋을 만든 후, K번만큼 학습(k번째), 검증(k-1개)을 수행하는 방법**\n",
    "- 예를 들면, **1번째**: 1번째 데이터셋으로 검증, 나머지 k-1개의 데이터셋으로 학습, **2번째**: 2번째 데이터셋으로 검증, 나머지 k-1개의 데이터셋으로 학습, ...,**k번째**: k번째 데이터셋으로 검증, 나머지 k-1개의 데이터셋으로 학습 -> 총 k번 수행하는것. \n",
    "- k번 반복 후 성능의 평균을 낸다.\n",
    "\n",
    "\n",
    "- 장: 좀더 일반화된 모델을 만들 수 있다.\n",
    "- 단: Iteration 횟수가 많기 때문에 모델 훈련/평가 시간이 오래걸림."
   ]
  },
  {
   "cell_type": "code",
   "execution_count": 12,
   "id": "beginning-match",
   "metadata": {},
   "outputs": [
    {
     "name": "stdout",
     "output_type": "stream",
     "text": [
      "붓꽃 데이터 세트 크기: 150\n"
     ]
    }
   ],
   "source": [
    "from sklearn.tree import DecisionTreeClassifier\n",
    "from sklearn.metrics import accuracy_score\n",
    "from sklearn.model_selection import KFold\n",
    "import numpy as np\n",
    "\n",
    "# iris 데이터 셋과 DecisionTreeClassifier 생성하기\n",
    "iris = load_iris()\n",
    "features = iris.data # 독립 변수\n",
    "label = iris.target # 종속 변수\n",
    "dt_clf = DecisionTreeClassifier(random_state = 156) # 같은 랜덤값을 뽑고자 random state 설정하여 모델 생성.\n",
    "\n",
    "\n",
    "# 5개의 fold set로 분리하는 KFold 객체\n",
    "kfold = KFold(n_splits=5)\n",
    "\n",
    "# fold set 별 정확도를 담을 리스트 객체 생성\n",
    "cv_accuracy = []\n",
    "print(\"붓꽃 데이터 세트 크기:\",features.shape[0]) # shape[0]은 행 길이"
   ]
  },
  {
   "cell_type": "code",
   "execution_count": 13,
   "id": "peaceful-rouge",
   "metadata": {},
   "outputs": [
    {
     "data": {
      "text/plain": [
       "(150, 4)"
      ]
     },
     "execution_count": 13,
     "metadata": {},
     "output_type": "execute_result"
    }
   ],
   "source": [
    "features.shape"
   ]
  },
  {
   "cell_type": "code",
   "execution_count": 14,
   "id": "progressive-adoption",
   "metadata": {},
   "outputs": [
    {
     "name": "stdout",
     "output_type": "stream",
     "text": [
      "\n",
      "#1 교차 검증 정확도 : 1.0, 학습데이터 크기 : 120, 검증 데이터 크기 : 30\n",
      "\n",
      "#1 검증 세트 인덱스 : [ 0  1  2  3  4  5  6  7  8  9 10 11 12 13 14 15 16 17 18 19 20 21 22 23\n",
      " 24 25 26 27 28 29]\n",
      "\n",
      "#2 교차 검증 정확도 : 0.9667, 학습데이터 크기 : 120, 검증 데이터 크기 : 30\n",
      "\n",
      "#2 검증 세트 인덱스 : [30 31 32 33 34 35 36 37 38 39 40 41 42 43 44 45 46 47 48 49 50 51 52 53\n",
      " 54 55 56 57 58 59]\n",
      "\n",
      "#3 교차 검증 정확도 : 0.8667, 학습데이터 크기 : 120, 검증 데이터 크기 : 30\n",
      "\n",
      "#3 검증 세트 인덱스 : [60 61 62 63 64 65 66 67 68 69 70 71 72 73 74 75 76 77 78 79 80 81 82 83\n",
      " 84 85 86 87 88 89]\n",
      "\n",
      "#4 교차 검증 정확도 : 0.9333, 학습데이터 크기 : 120, 검증 데이터 크기 : 30\n",
      "\n",
      "#4 검증 세트 인덱스 : [ 90  91  92  93  94  95  96  97  98  99 100 101 102 103 104 105 106 107\n",
      " 108 109 110 111 112 113 114 115 116 117 118 119]\n",
      "\n",
      "#5 교차 검증 정확도 : 0.7333, 학습데이터 크기 : 120, 검증 데이터 크기 : 30\n",
      "\n",
      "#5 검증 세트 인덱스 : [120 121 122 123 124 125 126 127 128 129 130 131 132 133 134 135 136 137\n",
      " 138 139 140 141 142 143 144 145 146 147 148 149]\n",
      "\n",
      "## 평균 검증 정확도:  0.9\n"
     ]
    }
   ],
   "source": [
    "n_iter = 0\n",
    "\n",
    "#KFold 객체의 split()를 호출하면 Fold 별 학습용, 검증용 set의 row 인덱스를 array로 반환함.\n",
    "for train_index, test_index in kfold.split(features):  # features(독립변수)를 k개의 fold로 나눠서 각 학습용과 검증용 set의 row 인덱스 반환.\n",
    "    # kfold.split()으로 반환된 인덱스 train_index, test_index를 이용해서 학습용, 검증용 데이터 추출\n",
    "    X_train, X_test = features[train_index], features[test_index]\n",
    "    y_train, y_test = label[train_index], label[test_index]\n",
    "    \n",
    "    # 학습용 데이터셋으로 학습 \n",
    "    dt_clf.fit(X_train, y_train) \n",
    "    #예측값 저장\n",
    "    pred = dt_clf.predict(X_test) # 학습된 모델 dt_clf로 X_test 예측하여 결과값 pred에 저장.\n",
    "    n_iter += 1\n",
    "    \n",
    "    # 반복시마다 정확도 측정해서 출력\n",
    "    accuracy = np.round(accuracy_score(y_test, pred), 4) # 예측값 pred와 실제 label값 y_test를 비교하여 정확도 4자리 반올림.\n",
    "    train_size = X_train.shape[0] # 학습용 set의 행 개수\n",
    "    test_size = X_test.shape[0] # 검증용 set의 행 개수\n",
    "    print('\\n#{0} 교차 검증 정확도 : {1}, 학습데이터 크기 : {2}, 검증 데이터 크기 : {3}'.format(n_iter, accuracy, train_size, test_size))\n",
    "    print('\\n#{0} 검증 세트 인덱스 : {1}'.format(n_iter, test_index)) # 검증용 데이터셋 test_index(예상; 150개 중 1/5이니까 30개 출력)\n",
    "    cv_accuracy.append(accuracy) # 매 fold별 정확도를 저장\n",
    "    \n",
    "# 개별 iteration별 정확도를 합하여 평균 정확도 계산\n",
    "print('\\n## 평균 검증 정확도: ', np.mean(cv_accuracy))"
   ]
  },
  {
   "cell_type": "markdown",
   "id": "theoretical-senior",
   "metadata": {},
   "source": [
    "## Stratified K-fold 교차 검증\n",
    "\n",
    "#### label의 분포가 불균형한 상황에서 index 순으로 fold set를 구성하는 것은 데이터를 검증하는데 **치명적인 오류**를 야기할 수 있음.\n",
    "#### 이러한 데이터 label의 분포까지 고려하여(그렇기 때문에 **데이터 fold set를 구성해주는 함수에서 데이터의 label 값이 요구됨**) 각 훈련/검증 fold의 분포가 전체 data set의 분포에 근사하게 된다.\n",
    "\n",
    "- 불균형한 분포도를 가진 레이블 데이터를 위한 K-fold 방식 (특정 레이블이 너무 많거나/희소한 경우)\n",
    "- label 데이터의 분포가 각 클래스 별로 불균형을 이룰 때 유용하게 사용됨.\n",
    "- 레이블 데이터의 분포도에 따라 train, validation으로 나눔.\n",
    "\n",
    "- 주로 분류 문제에서 stratified K-fold 사용. \n",
    "- **회귀에서는 지원X** -> 회귀 결정값은 이산값 형태의 레이블이 아니라, **연속된 숫자값**이기 때문에 결정값 별로 분포를 정하는 의미 X\n",
    "\n",
    "- k개의 fold로 나눈 후, 한 fold에서 k번째 검증용과 k-1개의 학습용으로 분리한다. 그리고 각 fold 안에서 class별 분배는 전체 데이터셋의 class 분포(불균형한)와 근사하도록 나눈다.\n",
    "- **예**를 들어, 150개의 데이터, k=3이라면, 1번째가 검증용이라면, k-1(2)개가 학습용이다.\\\n",
    "그리고 학습용 100개 중 train data의 class의 불균형한 분포를 근사하도록 class별(0,1,2)로 분배한다.\\\n",
    "검증용도 마찬가지로, 50개 중 label 데이터의 class의 불균형한 분포를 근사하도록 class별 (0,1,2)로 분배한다."
   ]
  },
  {
   "cell_type": "code",
   "execution_count": 15,
   "id": "brown-birmingham",
   "metadata": {},
   "outputs": [
    {
     "data": {
      "text/plain": [
       "2    50\n",
       "1    50\n",
       "0    50\n",
       "Name: label, dtype: int64"
      ]
     },
     "execution_count": 15,
     "metadata": {},
     "output_type": "execute_result"
    }
   ],
   "source": [
    "# iris data의 레이블 분포 확인\n",
    "import pandas as pd\n",
    "\n",
    "iris = load_iris()\n",
    "iris_df = pd.DataFrame(data = iris.data, columns = iris.feature_names)\n",
    "iris_df['label'] = iris.target\n",
    "iris_df['label'].value_counts() # 레이블 값의 분포도: 0, 1, 2값 모두 50개 동일"
   ]
  },
  {
   "cell_type": "code",
   "execution_count": 16,
   "id": "beautiful-brisbane",
   "metadata": {},
   "outputs": [
    {
     "name": "stdout",
     "output_type": "stream",
     "text": [
      "## 교차 검증 : 1\n",
      "학습 레이블 데이터 분포 : \n",
      " 2    50\n",
      "1    50\n",
      "Name: label, dtype: int64\n",
      "검증 레이블 데이터 분포 : \n",
      " 0    50\n",
      "Name: label, dtype: int64\n",
      "## 교차 검증 : 2\n",
      "학습 레이블 데이터 분포 : \n",
      " 2    50\n",
      "0    50\n",
      "Name: label, dtype: int64\n",
      "검증 레이블 데이터 분포 : \n",
      " 1    50\n",
      "Name: label, dtype: int64\n",
      "## 교차 검증 : 3\n",
      "학습 레이블 데이터 분포 : \n",
      " 1    50\n",
      "0    50\n",
      "Name: label, dtype: int64\n",
      "검증 레이블 데이터 분포 : \n",
      " 2    50\n",
      "Name: label, dtype: int64\n"
     ]
    }
   ],
   "source": [
    "# K-fold 교차 검증 시 레이블 분포도\n",
    "# 교차 검증 시마다 3개의 fold 세트로 만들어지는 학습레이블과 검증 레이블이 완전 다르게 추출\n",
    "\n",
    "kfold = KFold(n_splits=3)\n",
    "n_iter = 0\n",
    "for train_index, test_index in kfold.split(iris_df): # 3개의 fold로 나누고 train과 test index 반환\n",
    "    n_iter +=1\n",
    "    label_train = iris_df['label'].iloc[train_index]\n",
    "    label_test = iris_df['label'].iloc[test_index] # 3개의 fold로 나눠진 set 중 1/3 개의 index\n",
    "    print('## 교차 검증 : {0}'.format(n_iter))\n",
    "    print('학습 레이블 데이터 분포 : \\n', label_train.value_counts())\n",
    "    print('검증 레이블 데이터 분포 : \\n', label_test.value_counts())\n",
    "    \n",
    "# 검증 예측 정확도 0 -> 어떻게 알지?"
   ]
  },
  {
   "cell_type": "code",
   "execution_count": 17,
   "id": "geological-concentrate",
   "metadata": {},
   "outputs": [
    {
     "name": "stdout",
     "output_type": "stream",
     "text": [
      "## 교차 검증 : 1\n",
      "학습 레이블 데이터 분포 : \n",
      " 2    34\n",
      "1    33\n",
      "0    33\n",
      "Name: label, dtype: int64\n",
      "검증 레이블 데이터 분포 : \n",
      " 1    17\n",
      "0    17\n",
      "2    16\n",
      "Name: label, dtype: int64\n",
      "## 교차 검증 : 2\n",
      "학습 레이블 데이터 분포 : \n",
      " 1    34\n",
      "2    33\n",
      "0    33\n",
      "Name: label, dtype: int64\n",
      "검증 레이블 데이터 분포 : \n",
      " 2    17\n",
      "0    17\n",
      "1    16\n",
      "Name: label, dtype: int64\n",
      "## 교차 검증 : 3\n",
      "학습 레이블 데이터 분포 : \n",
      " 0    34\n",
      "2    33\n",
      "1    33\n",
      "Name: label, dtype: int64\n",
      "검증 레이블 데이터 분포 : \n",
      " 2    17\n",
      "1    17\n",
      "0    16\n",
      "Name: label, dtype: int64\n"
     ]
    }
   ],
   "source": [
    "# Stratified K-fold 교차 검증 시 레이블 분포도\n",
    "\n",
    "from sklearn.model_selection import StratifiedKFold\n",
    "\n",
    "skf = StratifiedKFold(n_splits=3)\n",
    "n_iter = 0\n",
    "\n",
    "# label 데이터의 분포도에 따라 학습/검증 데이터를 fold로 나누기위해 label 데이터셋도 인자로 넣어줌.\n",
    "for train_index, test_index in skf.split(iris_df, iris_df['label']):\n",
    "    n_iter +=1\n",
    "    label_train = iris_df['label'].iloc[train_index]\n",
    "    label_test = iris_df['label'].iloc[test_index] # 3개의 fold로 나눠진 set 중 1/3 개의 index\n",
    "    print('## 교차 검증 : {0}'.format(n_iter))\n",
    "    print('학습 레이블 데이터 분포 : \\n', label_train.value_counts())\n",
    "    print('검증 레이블 데이터 분포 : \\n', label_test.value_counts())\n",
    "    \n",
    "    \n",
    "# 학습 레이블(!00개)과 검증 레이블(50개) 데이터 값의 분포도가 동일하게 할당\n",
    "# K-fold로 분할된 레이블 data set이 전체 label 값의 분포도를 반영하지 못하는 문제를 해결."
   ]
  },
  {
   "cell_type": "code",
   "execution_count": 18,
   "id": "moral-vision",
   "metadata": {},
   "outputs": [
    {
     "name": "stdout",
     "output_type": "stream",
     "text": [
      "\n",
      "#1 교차 검증 정확도 : 0.98, 학습데이터 크기 : 100, 검증 데이터 크기 : 50\n",
      "\n",
      "#1 검증 세트 인덱스 : [  0   1   2   3   4   5   6   7   8   9  10  11  12  13  14  15  16  50\n",
      "  51  52  53  54  55  56  57  58  59  60  61  62  63  64  65  66 100 101\n",
      " 102 103 104 105 106 107 108 109 110 111 112 113 114 115]\n",
      "\n",
      "#2 교차 검증 정확도 : 0.94, 학습데이터 크기 : 100, 검증 데이터 크기 : 50\n",
      "\n",
      "#2 검증 세트 인덱스 : [ 17  18  19  20  21  22  23  24  25  26  27  28  29  30  31  32  33  67\n",
      "  68  69  70  71  72  73  74  75  76  77  78  79  80  81  82 116 117 118\n",
      " 119 120 121 122 123 124 125 126 127 128 129 130 131 132]\n",
      "\n",
      "#3 교차 검증 정확도 : 0.98, 학습데이터 크기 : 100, 검증 데이터 크기 : 50\n",
      "\n",
      "#3 검증 세트 인덱스 : [ 34  35  36  37  38  39  40  41  42  43  44  45  46  47  48  49  83  84\n",
      "  85  86  87  88  89  90  91  92  93  94  95  96  97  98  99 133 134 135\n",
      " 136 137 138 139 140 141 142 143 144 145 146 147 148 149]\n",
      "\n",
      "## 교차 검증별 정확도 :  [0.98 0.94 0.98]\n",
      "\n",
      "## 평균 검증 정확도:  0.9666666666666667\n"
     ]
    }
   ],
   "source": [
    "# Stratified K-fold 교차 검증 수행 및 정확도 계산\n",
    "\n",
    "dt_clf = DecisionTreeClassifier(random_state = 156) \n",
    "skfold = StratifiedKFold(n_splits=3)\n",
    "\n",
    "# fold set 별 정확도를 담을 리스트 객체 생성\n",
    "cv_accuracy = []\n",
    "n_iter = 0\n",
    "\n",
    "#KFold 객체의 split()를 호출하면 Fold 별 학습용, 검증용 set의 row 인덱스를 array로 반환함.\n",
    "for train_index, test_index in skfold.split(features, label):  # features(독립변수)를 k개의 fold로 나눠서 각 학습용과 검증용 set의 row 인덱스 반환.\n",
    "    # kfold.split()으로 반환된 인덱스 train_index, test_index를 이용해서 학습용, 검증용 데이터 추출\n",
    "    X_train, X_test = features[train_index], features[test_index]\n",
    "    y_train, y_test = label[train_index], label[test_index]\n",
    "    \n",
    "    # 학습용 데이터셋으로 학습 \n",
    "    dt_clf.fit(X_train, y_train) \n",
    "    #예측값 저장\n",
    "    pred = dt_clf.predict(X_test) # 학습된 모델 dt_clf로 X_test 예측하여 결과값 pred에 저장.\n",
    "    n_iter += 1\n",
    "    \n",
    "    # 반복시마다 정확도 측정해서 출력\n",
    "    accuracy = np.round(accuracy_score(y_test, pred), 4) # 예측값 pred와 실제 label값 y_test를 비교하여 정확도 4자리 반올림.\n",
    "    train_size = X_train.shape[0] # 학습용 set의 행 개수\n",
    "    test_size = X_test.shape[0] # 검증용 set의 행 개수\n",
    "    print('\\n#{0} 교차 검증 정확도 : {1}, 학습데이터 크기 : {2}, 검증 데이터 크기 : {3}'.format(n_iter, accuracy, train_size, test_size))\n",
    "    print('\\n#{0} 검증 세트 인덱스 : {1}'.format(n_iter, test_index)) # 검증용 데이터셋 test_index(예상; 150개 중 1/5이니까 30개 출력)\n",
    "    cv_accuracy.append(accuracy) # 매 fold별 정확도를 저장\n",
    "    \n",
    "# 개별 iteration별 정확도를 합하여 평균 정확도 계산\n",
    "print('\\n## 교차 검증별 정확도 : ', np.round(cv_accuracy,4))\n",
    "print('\\n## 평균 검증 정확도: ', np.mean(cv_accuracy))"
   ]
  },
  {
   "cell_type": "markdown",
   "id": "comparative-chinese",
   "metadata": {},
   "source": [
    "##  Cross_val_score()\n",
    "- 교차검증을 조금 더 편리하게 수행 가능\n",
    "- K-Fold로 데이터를 **학습하고 예측**하는 과정을 한꺼번에 수행해주는 API\n",
    "- 선언 형태\\\n",
    " **cross_val_score(estimator, 피처 dataset X, 레이블 datasety=None, 예측 성능 평가 지표 scoring = None, 교차검증 폴드 수 cv = None, n_jobs = 1, verbose = 0, fit_params = None, pre_dispatch='2*n_jobs')**\n",
    "\n",
    "\n",
    "- n_jobs : int형. 병행으로 수행할 jobs 수\n",
    "- verbose : verbosity(다변) 레벨\n",
    "- fit_params : dict형. Parameters to pass to the fit method of the estimator\n",
    "- pre_dispatch : int/str형. 병렬 실행 중에 전송되는 작업 수 제어\n",
    "- **예시**\\\n",
    "estimator는 의사결정나무 객체인 dt_clf로 , feature dataset은 data, label dataset은 label, 예측 성능 평가 지표는 'accuracy'(정확도), 교차검증 폴드 수는 3개\\\n",
    "=> scores = cross_val_score(dt_clf, data, label, scoring='accuracy', cv = 3)"
   ]
  },
  {
   "cell_type": "code",
   "execution_count": 19,
   "id": "ancient-authentication",
   "metadata": {},
   "outputs": [
    {
     "name": "stdout",
     "output_type": "stream",
     "text": [
      "교차 검증별 정확도:  [0.98 0.94 0.98]\n",
      "평균 검증 정확도:  0.9667\n"
     ]
    }
   ],
   "source": [
    "from sklearn.tree import DecisionTreeClassifier # 분류모델 DT\n",
    "# K-Fold로 데이터 학습,예측 과정을 한꺼번에 수행해주는 API 'cross_val_score'와  \n",
    "from sklearn.model_selection import cross_val_score, cross_validate\n",
    "from sklearn.datasets import load_iris # iris데이터 로드\n",
    "\n",
    "iris_data = load_iris()\n",
    "dt_clf = DecisionTreeClassifier(random_state=156)\n",
    "data = iris_data.data\n",
    "label = iris_data.target\n",
    "\n",
    "# 성능 지표는 정확도(accuracy), 교차 검증 세트는 3개! 다중\n",
    "# 의사결정나무 객체인 dt_clf를 estimator로, feature dataset은 data, label dataset은 label, 예측 성능 평가 지표는 'accuracy'(정확도), 교차검증 폴드 수는 3개\n",
    "scores = cross_val_score(dt_clf, data, label, scoring='accuracy', cv = 3) \n",
    "# 반환값: scoring 파라미터로 지정된 성능지표(accuracy) 측정값을 배열 형태로 반환.\n",
    "# array([0.98, 0.94, 0.98])\n",
    "print('교차 검증별 정확도: ', np.round(scores, 4))\n",
    "print('평균 검증 정확도: ', np.round(np.mean(scores),4))"
   ]
  },
  {
   "cell_type": "markdown",
   "id": "cross-amplifier",
   "metadata": {},
   "source": [
    "## cross_validate : 다중 평가 지표\n",
    "- 여러개의 평가 지표를 사용하려면 새롭게 추가된 cross_validate() 함수를 사용. \n",
    "- cross_val_score()와 마찬가지로 scoring 매개변수에서 평가 지표를 지정할 수 있음.\n",
    "- 리스트 혹은 튜플 형태도 가능하지만, 이름 지정하고 싶은 경우 dictionary 형태로 평가지표 지정!\n",
    "- **예시** (SVC를 estimator로, feature는 X_train, label은 y_train, 예측 성능 평가지표는 accuracy와 roc_auc, \\\n",
    "cross_validate(SVC(gamma='auto'), X_train, y_train, scoring={'acc':'accuracy', 'ra':'roc_auc'}, return_train_score=False, cv=3)\n",
    "\n",
    "\n",
    "- 테스트 폴드에 대한 점수 뿐만 아니라 '훈련 폴드'에 대한 점수도 반환함. \n",
    "- return_train_score 매개변수에서 명시적으로 훈련 폴드의 점수를 받을지 여부를 설정하는 것이 좋음. -> 오류 메시지X"
   ]
  },
  {
   "cell_type": "markdown",
   "id": "spatial-penalty",
   "metadata": {},
   "source": [
    "# GridSearchCV()\n",
    "1. 파라미터 vs 하이퍼 파라미터\n",
    "- 파라미터 : 모델 자체적으로 결정되는 변수. 가중치라고도 함. ex)선형회귀의 계수\\\n",
    "  파라미터(weight)는 학습 과정에서 조정.\n",
    "  \n",
    "- 하이퍼 파라미터 : 사용자에 의해 결정되는 변수. ex)랜덤포레스트 모델 - 트리의 개수, 트리의 깊이 / 딥러닝 모델 - layer의 개수, 학습 횟수의 수\\\n",
    "  하이퍼 파라미터는 사용자가 고정한 값으로 학습.\n",
    "  \n",
    "- 데이터마다 최적의 하이퍼 파라미터가 다르며, 성능을 높일 수 있는 방법이기 때문에 **하이퍼 파라미터 튜닝**이 필요함.\n",
    "- GridSearch와 RandomSearch가 대표적인 하이퍼 파라미터 튜닝.\n",
    "\n",
    "2. GridSearchCV()\n",
    "- 하이퍼 파라미터로 적용해볼 값들을 미리 정하여 모든 조합을 시행. 간단하지만 하이퍼 피라미터의 개수가 많을 수록 시간이 오래 걸림\n",
    "- GridSearchCV API를 활용하면 **교차 검증과 하이퍼 파라미터 튜닝이 동시에 가능**함.\n",
    "- ex) \\\n",
    "'criterion:['gini','entropy'],\\\n",
    "'n_estimators':[50,70,90,110],\\\n",
    "'max_depth':[3,5,7,10],\\\n",
    "'max_features':[0.8,0.85,0.9]\\\n",
    "=> 2X4X4X3 = 96 : 96번을 반복하여 최적의 하이퍼 파라미터를 찾음.\n",
    "\n",
    "3. GridSearchCV() 주요 파라미터\n",
    "- estimator : Classifier, Regressor, Pipeline 등 사용됨\n",
    "- param_grid : key-리스트 형태의 딕셔너리로 주어짐. estimator의 튜닝을 위해 파라미터명과 사용될 여러 파라미터 값 지정\n",
    "- scoring : 예측 성능을 측정할 평가 방법 지정. 정확도를 측정하는 accuracy 등 성능 평가 지표 함수 지정\n",
    "- cv : 교차 검증 폴드 수\n",
    "- refit : 기본은 True. GridSearchCV를 사용하여 찾은 최적의 하이퍼 파라미터 값을 estimator 객체에 적용하여 다시 학습할지를 묻는 부분.\n",
    "- n_jobs : 코드 실행할 때 몇 개의 코어를 쓸 것인지 지정 (-1인 경우, 컴퓨터 코어 전부 사용-> 속도 향상)\n",
    "- verbose : 실행결과 출력에 대한 설정 (0:출력 안함, 1:마지막결과만 출력, 2:매 시도마다 출력)"
   ]
  },
  {
   "cell_type": "code",
   "execution_count": 2,
   "id": "rental-norman",
   "metadata": {},
   "outputs": [
    {
     "data": {
      "text/plain": [
       "{'max_depth': [1, 2, 3], 'min_samples_split': [2, 3]}"
      ]
     },
     "execution_count": 2,
     "metadata": {},
     "output_type": "execute_result"
    }
   ],
   "source": [
    "# GridSearchCV() 실습\n",
    "from sklearn.datasets import load_iris\n",
    "from sklearn.tree import DecisionTreeClassifier\n",
    "from sklearn.model_selection import GridSearchCV, train_test_split\n",
    "\n",
    "# 데이터 로딩 후, 학습데이터와 테스트 데이터 8:2 분리\n",
    "iris = load_iris()\n",
    "X_train, X_test, y_train, y_test = train_test_split(iris.data, iris.target, test_size=0.2, random_state=121)\n",
    "\n",
    "dtree = DecisionTreeClassifier()\n",
    "\n",
    "# parameter들을 dictionary 형태로 설정\n",
    "parameters = {'max_depth':[1,2,3], 'min_samples_split':[2,3]}\n",
    "parameters"
   ]
  },
  {
   "cell_type": "code",
   "execution_count": 6,
   "id": "fresh-ranking",
   "metadata": {},
   "outputs": [
    {
     "data": {
      "text/html": [
       "<div>\n",
       "<style scoped>\n",
       "    .dataframe tbody tr th:only-of-type {\n",
       "        vertical-align: middle;\n",
       "    }\n",
       "\n",
       "    .dataframe tbody tr th {\n",
       "        vertical-align: top;\n",
       "    }\n",
       "\n",
       "    .dataframe thead th {\n",
       "        text-align: right;\n",
       "    }\n",
       "</style>\n",
       "<table border=\"1\" class=\"dataframe\">\n",
       "  <thead>\n",
       "    <tr style=\"text-align: right;\">\n",
       "      <th></th>\n",
       "      <th>mean_fit_time</th>\n",
       "      <th>std_fit_time</th>\n",
       "      <th>mean_score_time</th>\n",
       "      <th>std_score_time</th>\n",
       "      <th>param_max_depth</th>\n",
       "      <th>param_min_samples_split</th>\n",
       "      <th>params</th>\n",
       "      <th>split0_test_score</th>\n",
       "      <th>split1_test_score</th>\n",
       "      <th>split2_test_score</th>\n",
       "      <th>mean_test_score</th>\n",
       "      <th>std_test_score</th>\n",
       "      <th>rank_test_score</th>\n",
       "    </tr>\n",
       "  </thead>\n",
       "  <tbody>\n",
       "    <tr>\n",
       "      <th>0</th>\n",
       "      <td>0.001754</td>\n",
       "      <td>0.000458</td>\n",
       "      <td>0.000671</td>\n",
       "      <td>0.000485</td>\n",
       "      <td>1</td>\n",
       "      <td>2</td>\n",
       "      <td>{'max_depth': 1, 'min_samples_split': 2}</td>\n",
       "      <td>0.700</td>\n",
       "      <td>0.7</td>\n",
       "      <td>0.70</td>\n",
       "      <td>0.700000</td>\n",
       "      <td>1.110223e-16</td>\n",
       "      <td>5</td>\n",
       "    </tr>\n",
       "    <tr>\n",
       "      <th>1</th>\n",
       "      <td>0.002002</td>\n",
       "      <td>0.000065</td>\n",
       "      <td>0.002587</td>\n",
       "      <td>0.002150</td>\n",
       "      <td>1</td>\n",
       "      <td>3</td>\n",
       "      <td>{'max_depth': 1, 'min_samples_split': 3}</td>\n",
       "      <td>0.700</td>\n",
       "      <td>0.7</td>\n",
       "      <td>0.70</td>\n",
       "      <td>0.700000</td>\n",
       "      <td>1.110223e-16</td>\n",
       "      <td>5</td>\n",
       "    </tr>\n",
       "    <tr>\n",
       "      <th>2</th>\n",
       "      <td>0.002167</td>\n",
       "      <td>0.000258</td>\n",
       "      <td>0.001185</td>\n",
       "      <td>0.000604</td>\n",
       "      <td>2</td>\n",
       "      <td>2</td>\n",
       "      <td>{'max_depth': 2, 'min_samples_split': 2}</td>\n",
       "      <td>0.925</td>\n",
       "      <td>1.0</td>\n",
       "      <td>0.95</td>\n",
       "      <td>0.958333</td>\n",
       "      <td>3.118048e-02</td>\n",
       "      <td>3</td>\n",
       "    </tr>\n",
       "    <tr>\n",
       "      <th>3</th>\n",
       "      <td>0.001646</td>\n",
       "      <td>0.000541</td>\n",
       "      <td>0.000981</td>\n",
       "      <td>0.000030</td>\n",
       "      <td>2</td>\n",
       "      <td>3</td>\n",
       "      <td>{'max_depth': 2, 'min_samples_split': 3}</td>\n",
       "      <td>0.925</td>\n",
       "      <td>1.0</td>\n",
       "      <td>0.95</td>\n",
       "      <td>0.958333</td>\n",
       "      <td>3.118048e-02</td>\n",
       "      <td>3</td>\n",
       "    </tr>\n",
       "    <tr>\n",
       "      <th>4</th>\n",
       "      <td>0.007676</td>\n",
       "      <td>0.009549</td>\n",
       "      <td>0.001647</td>\n",
       "      <td>0.000917</td>\n",
       "      <td>3</td>\n",
       "      <td>2</td>\n",
       "      <td>{'max_depth': 3, 'min_samples_split': 2}</td>\n",
       "      <td>0.975</td>\n",
       "      <td>1.0</td>\n",
       "      <td>0.95</td>\n",
       "      <td>0.975000</td>\n",
       "      <td>2.041241e-02</td>\n",
       "      <td>1</td>\n",
       "    </tr>\n",
       "    <tr>\n",
       "      <th>5</th>\n",
       "      <td>0.001343</td>\n",
       "      <td>0.000464</td>\n",
       "      <td>0.000975</td>\n",
       "      <td>0.000033</td>\n",
       "      <td>3</td>\n",
       "      <td>3</td>\n",
       "      <td>{'max_depth': 3, 'min_samples_split': 3}</td>\n",
       "      <td>0.975</td>\n",
       "      <td>1.0</td>\n",
       "      <td>0.95</td>\n",
       "      <td>0.975000</td>\n",
       "      <td>2.041241e-02</td>\n",
       "      <td>1</td>\n",
       "    </tr>\n",
       "  </tbody>\n",
       "</table>\n",
       "</div>"
      ],
      "text/plain": [
       "   mean_fit_time  std_fit_time  mean_score_time  std_score_time  \\\n",
       "0       0.001754      0.000458         0.000671        0.000485   \n",
       "1       0.002002      0.000065         0.002587        0.002150   \n",
       "2       0.002167      0.000258         0.001185        0.000604   \n",
       "3       0.001646      0.000541         0.000981        0.000030   \n",
       "4       0.007676      0.009549         0.001647        0.000917   \n",
       "5       0.001343      0.000464         0.000975        0.000033   \n",
       "\n",
       "  param_max_depth param_min_samples_split  \\\n",
       "0               1                       2   \n",
       "1               1                       3   \n",
       "2               2                       2   \n",
       "3               2                       3   \n",
       "4               3                       2   \n",
       "5               3                       3   \n",
       "\n",
       "                                     params  split0_test_score  \\\n",
       "0  {'max_depth': 1, 'min_samples_split': 2}              0.700   \n",
       "1  {'max_depth': 1, 'min_samples_split': 3}              0.700   \n",
       "2  {'max_depth': 2, 'min_samples_split': 2}              0.925   \n",
       "3  {'max_depth': 2, 'min_samples_split': 3}              0.925   \n",
       "4  {'max_depth': 3, 'min_samples_split': 2}              0.975   \n",
       "5  {'max_depth': 3, 'min_samples_split': 3}              0.975   \n",
       "\n",
       "   split1_test_score  split2_test_score  mean_test_score  std_test_score  \\\n",
       "0                0.7               0.70         0.700000    1.110223e-16   \n",
       "1                0.7               0.70         0.700000    1.110223e-16   \n",
       "2                1.0               0.95         0.958333    3.118048e-02   \n",
       "3                1.0               0.95         0.958333    3.118048e-02   \n",
       "4                1.0               0.95         0.975000    2.041241e-02   \n",
       "5                1.0               0.95         0.975000    2.041241e-02   \n",
       "\n",
       "   rank_test_score  \n",
       "0                5  \n",
       "1                5  \n",
       "2                3  \n",
       "3                3  \n",
       "4                1  \n",
       "5                1  "
      ]
     },
     "execution_count": 6,
     "metadata": {},
     "output_type": "execute_result"
    }
   ],
   "source": [
    "# param_grid의 하이퍼 파라미터들을 3개의 train, test set fold로 나누어서 테스트 수행 설정\n",
    "\n",
    "grid_dtree = GridSearchCV(dtree, param_grid=parameters, cv=3, refit=True)\n",
    "\n",
    "grid_dtree.fit(X_train, y_train)\n",
    "\n",
    "scores_df = pd.DataFrame(grid_dtree.cv_results_)\n",
    "scores_df[['params','mean_test_score','rank_test_score','split0_test_score','split1_test_score','split2_test_score']]\n",
    "scores_df"
   ]
  },
  {
   "cell_type": "code",
   "execution_count": 7,
   "id": "starting-coordination",
   "metadata": {},
   "outputs": [
    {
     "name": "stdout",
     "output_type": "stream",
     "text": [
      "GridSearchCV 최적 파라미터: {'max_depth': 3, 'min_samples_split': 2}\n",
      "GridSearchCV 최고 정확도: 0.9750\n"
     ]
    }
   ],
   "source": [
    "print('GridSearchCV 최적 파라미터:', grid_dtree.best_params_)\n",
    "print('GridSearchCV 최고 정확도: {0:.4f}'.format(grid_dtree.best_score_))"
   ]
  },
  {
   "cell_type": "code",
   "execution_count": 9,
   "id": "threatened-fashion",
   "metadata": {},
   "outputs": [
    {
     "name": "stdout",
     "output_type": "stream",
     "text": [
      "테스트 데이터 세트 정확도: 0.9667\n"
     ]
    }
   ],
   "source": [
    "from sklearn.metrics import accuracy_score\n",
    "\n",
    "estimator = grid_dtree.best_estimator_\n",
    "\n",
    "pred = estimator.predict(X_test)\n",
    "print('테스트 데이터 세트 정확도: {0:.4f}'.format(accuracy_score(y_test, pred)))"
   ]
  },
  {
   "cell_type": "markdown",
   "id": "western-blanket",
   "metadata": {},
   "source": [
    "# RandomSearchCV()"
   ]
  },
  {
   "cell_type": "code",
   "execution_count": 10,
   "id": "approved-james",
   "metadata": {},
   "outputs": [
    {
     "name": "stdout",
     "output_type": "stream",
     "text": [
      "0.8951048951048951\n"
     ]
    }
   ],
   "source": [
    "# GridSearch와 RandomSearch 비교 실습\n",
    "import pandas as pd\n",
    "from sklearn.model_selection import train_test_split\n",
    "from sklearn.tree import DecisionTreeClassifier\n",
    "from sklearn.model_selection import GridSearchCV\n",
    "from sklearn.model_selection import RandomizedSearchCV\n",
    "\n",
    "from sklearn.datasets import load_breast_cancer\n",
    "data = load_breast_cancer()\n",
    "X_train, X_test, y_train, y_test = train_test_split(data.data, data.target, stratify=data.target, random_state=66)\n",
    "\n",
    "tree = DecisionTreeClassifier(random_state = 0)\n",
    "tree.fit(X_train, y_train)\n",
    "\n",
    "print(tree.score(X_test, y_test))  # 하이퍼 파라미터 튜닝 이전 모델 성능"
   ]
  },
  {
   "cell_type": "code",
   "execution_count": 11,
   "id": "stupid-porcelain",
   "metadata": {
    "scrolled": true
   },
   "outputs": [
    {
     "name": "stdout",
     "output_type": "stream",
     "text": [
      "final params {'criterion': 'gini', 'max_depth': 4, 'min_samples_leaf': 3}\n",
      "best score 0.9460093896713615\n",
      "0.916083916083916\n"
     ]
    }
   ],
   "source": [
    "dt = DecisionTreeClassifier(random_state = 0)\n",
    "\n",
    "param_grid = {'criterion':['gini', 'entropy'],\n",
    "                           'max_depth':[4,5,6,8,10],\n",
    "             'min_samples_leaf':[3,5,10,50,100]}\n",
    "\n",
    "gcv = GridSearchCV(dt, param_grid = param_grid, cv=3, scoring='accuracy')\n",
    "gcv.fit(X_train, y_train)\n",
    "print('final params', gcv.best_params_)\n",
    "print('best score', gcv.best_score_)\n",
    "print(gcv.score(X_test, y_test))"
   ]
  },
  {
   "cell_type": "markdown",
   "id": "intellectual-calendar",
   "metadata": {},
   "source": [
    "# 데이터 전처리 "
   ]
  },
  {
   "cell_type": "code",
   "execution_count": 27,
   "id": "existing-reaction",
   "metadata": {},
   "outputs": [
    {
     "name": "stdout",
     "output_type": "stream",
     "text": [
      "레이블 인코딩 변환값: [0 1 4 5 3 3 2 2]\n"
     ]
    }
   ],
   "source": [
    "# 레이블 인코딩\n",
    "from sklearn.preprocessing import LabelEncoder\n",
    "\n",
    "items = ['TV','냉장고','전자레읹','컴퓨터','선풍기','선풍기','믹서','믹서']\n",
    "\n",
    "encoder = LabelEncoder()\n",
    "\n",
    "encoder.fit(items)\n",
    "labels = encoder.transform(items)\n",
    "print('레이블 인코딩 변환값:',labels)"
   ]
  },
  {
   "cell_type": "code",
   "execution_count": 28,
   "id": "contemporary-front",
   "metadata": {},
   "outputs": [
    {
     "name": "stdout",
     "output_type": "stream",
     "text": [
      "레이블 인코딩 클래스: ['TV' '냉장고' '믹서' '선풍기' '전자레읹' '컴퓨터']\n",
      "디코딩 원본값: ['전자레읹' '컴퓨터' '믹서' 'TV' '냉장고' '냉장고' '선풍기' '선풍기']\n"
     ]
    }
   ],
   "source": [
    "print('레이블 인코딩 클래스:',encoder.classes_)\n",
    "\n",
    "print('디코딩 원본값:', encoder.inverse_transform([4,5,2,0,1,1,3,3]))"
   ]
  },
  {
   "cell_type": "code",
   "execution_count": 30,
   "id": "assumed-allergy",
   "metadata": {},
   "outputs": [],
   "source": [
    "#원 핫 인코딩\n",
    "\n",
    "from sklearn.preprocessing import OneHotEncoder\n",
    "import numpy as np\n",
    "\n",
    "encoder = LabelEncoder()\n",
    "encoder.fit(items)\n",
    "labels = encoder.transform(items)\n",
    "\n",
    "labels = labels.reshape(-1,1)\n",
    "\n",
    "oh_encoder = OneHotEncoder()\n",
    "oh_encoder.fit(labels)\n",
    "oh_labels = oh_encoder.transform(labels)"
   ]
  },
  {
   "cell_type": "code",
   "execution_count": 31,
   "id": "married-coating",
   "metadata": {},
   "outputs": [
    {
     "data": {
      "text/plain": [
       "array([[1., 0., 0., 0., 0., 0.],\n",
       "       [0., 1., 0., 0., 0., 0.],\n",
       "       [0., 0., 0., 0., 1., 0.],\n",
       "       [0., 0., 0., 0., 0., 1.],\n",
       "       [0., 0., 0., 1., 0., 0.],\n",
       "       [0., 0., 0., 1., 0., 0.],\n",
       "       [0., 0., 1., 0., 0., 0.],\n",
       "       [0., 0., 1., 0., 0., 0.]])"
      ]
     },
     "execution_count": 31,
     "metadata": {},
     "output_type": "execute_result"
    }
   ],
   "source": [
    "oh_labels.toarray()"
   ]
  },
  {
   "cell_type": "code",
   "execution_count": 32,
   "id": "rising-madison",
   "metadata": {},
   "outputs": [
    {
     "data": {
      "text/plain": [
       "(8, 6)"
      ]
     },
     "execution_count": 32,
     "metadata": {},
     "output_type": "execute_result"
    }
   ],
   "source": [
    "oh_labels.shape"
   ]
  },
  {
   "cell_type": "code",
   "execution_count": 33,
   "id": "leading-institution",
   "metadata": {},
   "outputs": [
    {
     "data": {
      "text/html": [
       "<div>\n",
       "<style scoped>\n",
       "    .dataframe tbody tr th:only-of-type {\n",
       "        vertical-align: middle;\n",
       "    }\n",
       "\n",
       "    .dataframe tbody tr th {\n",
       "        vertical-align: top;\n",
       "    }\n",
       "\n",
       "    .dataframe thead th {\n",
       "        text-align: right;\n",
       "    }\n",
       "</style>\n",
       "<table border=\"1\" class=\"dataframe\">\n",
       "  <thead>\n",
       "    <tr style=\"text-align: right;\">\n",
       "      <th></th>\n",
       "      <th>item_TV</th>\n",
       "      <th>item_냉장고</th>\n",
       "      <th>item_믹서</th>\n",
       "      <th>item_선풍기</th>\n",
       "      <th>item_전자레인지</th>\n",
       "      <th>item_컴퓨터</th>\n",
       "    </tr>\n",
       "  </thead>\n",
       "  <tbody>\n",
       "    <tr>\n",
       "      <th>0</th>\n",
       "      <td>1</td>\n",
       "      <td>0</td>\n",
       "      <td>0</td>\n",
       "      <td>0</td>\n",
       "      <td>0</td>\n",
       "      <td>0</td>\n",
       "    </tr>\n",
       "    <tr>\n",
       "      <th>1</th>\n",
       "      <td>0</td>\n",
       "      <td>1</td>\n",
       "      <td>0</td>\n",
       "      <td>0</td>\n",
       "      <td>0</td>\n",
       "      <td>0</td>\n",
       "    </tr>\n",
       "    <tr>\n",
       "      <th>2</th>\n",
       "      <td>0</td>\n",
       "      <td>0</td>\n",
       "      <td>0</td>\n",
       "      <td>0</td>\n",
       "      <td>1</td>\n",
       "      <td>0</td>\n",
       "    </tr>\n",
       "    <tr>\n",
       "      <th>3</th>\n",
       "      <td>0</td>\n",
       "      <td>0</td>\n",
       "      <td>0</td>\n",
       "      <td>0</td>\n",
       "      <td>0</td>\n",
       "      <td>1</td>\n",
       "    </tr>\n",
       "    <tr>\n",
       "      <th>4</th>\n",
       "      <td>0</td>\n",
       "      <td>0</td>\n",
       "      <td>0</td>\n",
       "      <td>1</td>\n",
       "      <td>0</td>\n",
       "      <td>0</td>\n",
       "    </tr>\n",
       "    <tr>\n",
       "      <th>5</th>\n",
       "      <td>0</td>\n",
       "      <td>0</td>\n",
       "      <td>0</td>\n",
       "      <td>1</td>\n",
       "      <td>0</td>\n",
       "      <td>0</td>\n",
       "    </tr>\n",
       "    <tr>\n",
       "      <th>6</th>\n",
       "      <td>0</td>\n",
       "      <td>0</td>\n",
       "      <td>1</td>\n",
       "      <td>0</td>\n",
       "      <td>0</td>\n",
       "      <td>0</td>\n",
       "    </tr>\n",
       "    <tr>\n",
       "      <th>7</th>\n",
       "      <td>0</td>\n",
       "      <td>0</td>\n",
       "      <td>1</td>\n",
       "      <td>0</td>\n",
       "      <td>0</td>\n",
       "      <td>0</td>\n",
       "    </tr>\n",
       "  </tbody>\n",
       "</table>\n",
       "</div>"
      ],
      "text/plain": [
       "   item_TV  item_냉장고  item_믹서  item_선풍기  item_전자레인지  item_컴퓨터\n",
       "0        1         0        0         0           0         0\n",
       "1        0         1        0         0           0         0\n",
       "2        0         0        0         0           1         0\n",
       "3        0         0        0         0           0         1\n",
       "4        0         0        0         1           0         0\n",
       "5        0         0        0         1           0         0\n",
       "6        0         0        1         0           0         0\n",
       "7        0         0        1         0           0         0"
      ]
     },
     "execution_count": 33,
     "metadata": {},
     "output_type": "execute_result"
    }
   ],
   "source": [
    "import pandas as pd\n",
    "df = pd.DataFrame({'item':['TV','냉장고','전자레인지','컴퓨터','선풍기','선풍기','믹서','믹서']})\n",
    "pd.get_dummies(df)"
   ]
  },
  {
   "cell_type": "code",
   "execution_count": 34,
   "id": "underlying-essence",
   "metadata": {},
   "outputs": [],
   "source": [
    "# iris 데이터셋 준비\n",
    "\n",
    "from sklearn.datasets import load_iris\n",
    "iris = load_iris()\n",
    "iris_data = iris.data\n",
    "iris_df = pd.DataFrame(data=iris_data, columns=iris.feature_names)"
   ]
  },
  {
   "cell_type": "code",
   "execution_count": 35,
   "id": "multiple-introduction",
   "metadata": {},
   "outputs": [
    {
     "name": "stdout",
     "output_type": "stream",
     "text": [
      "feature들의 평균 값\n",
      "sepal length (cm)    5.843333\n",
      "sepal width (cm)     3.057333\n",
      "petal length (cm)    3.758000\n",
      "petal width (cm)     1.199333\n",
      "dtype: float64\n",
      "\n",
      "feature들의 분산 값\n",
      "sepal length (cm)    0.685694\n",
      "sepal width (cm)     0.189979\n",
      "petal length (cm)    3.116278\n",
      "petal width (cm)     0.581006\n",
      "dtype: float64\n"
     ]
    }
   ],
   "source": [
    "# 원본 데이터 확인 \n",
    "print('feature들의 평균 값')\n",
    "print(iris_df.mean())\n",
    "print('\\nfeature들의 분산 값')\n",
    "print(iris_df.var())"
   ]
  },
  {
   "cell_type": "markdown",
   "id": "packed-georgia",
   "metadata": {},
   "source": [
    "## StandardScaler - 표준정규분포 데이터표준화\n",
    "- 데이터 분석을 할 때, 변수의 척도(scale)가 서로 다른 경우, 직접적으로 상호 비교할 수 없게됩니다. \n",
    "- 모델링에서는 척도(scale)가 다름으로 인해서 모수의 왜곡이 생길 수 있습니다.\n",
    "- 따라서 모델링 작업에 들어가기 전에 변수들 간의 척도가 다른 경우, 보통 표준화(scale standization)를 진행합니다.\n",
    "- 표준화 중에서도 모집단이 정규분포를 따르는 경우 평균이 0, 표준편차가 1인 **표준정규분포**로 표준화하는 방법이 많이 사용됩니다. -> sklearn.preprocessing: StandardScaler().fit_transform()"
   ]
  },
  {
   "cell_type": "code",
   "execution_count": 37,
   "id": "quality-buddy",
   "metadata": {},
   "outputs": [
    {
     "name": "stdout",
     "output_type": "stream",
     "text": [
      "\n",
      "feature들의 평균 값\n",
      "sepal length (cm)   -1.690315e-15\n",
      "sepal width (cm)    -1.842970e-15\n",
      "petal length (cm)   -1.698641e-15\n",
      "petal width (cm)    -1.409243e-15\n",
      "dtype: float64\n",
      "\n",
      "feature들의 분산 값\n",
      "sepal length (cm)    1.006711\n",
      "sepal width (cm)     1.006711\n",
      "petal length (cm)    1.006711\n",
      "petal width (cm)     1.006711\n",
      "dtype: float64\n"
     ]
    }
   ],
   "source": [
    "# StandardScaler : 평균0, 분산 1인 정규분포를 따르도록 변환\n",
    "\n",
    "from sklearn.preprocessing import StandardScaler\n",
    "\n",
    "scaler = StandardScaler()\n",
    "\n",
    "scaler.fit(iris_df)\n",
    "iris_scaled = scaler.transform(iris_df)\n",
    "\n",
    "iris_df_scaled = pd.DataFrame(data=iris_scaled, columns = iris.feature_names)\n",
    "\n",
    "# 변환된 데이터 확인\n",
    "print('')\n",
    "print('feature들의 평균 값')\n",
    "print(iris_df_scaled.mean())\n",
    "print('\\nfeature들의 분산 값')\n",
    "print(iris_df_scaled.var())"
   ]
  },
  {
   "cell_type": "code",
   "execution_count": 38,
   "id": "joint-filename",
   "metadata": {},
   "outputs": [
    {
     "name": "stdout",
     "output_type": "stream",
     "text": [
      "\n",
      "feature들의 평균 값\n",
      "sepal length (cm)    0.428704\n",
      "sepal width (cm)     0.440556\n",
      "petal length (cm)    0.467458\n",
      "petal width (cm)     0.458056\n",
      "dtype: float64\n",
      "\n",
      "feature들의 분산 값\n",
      "sepal length (cm)    0.052908\n",
      "sepal width (cm)     0.032983\n",
      "petal length (cm)    0.089522\n",
      "petal width (cm)     0.100869\n",
      "dtype: float64\n"
     ]
    }
   ],
   "source": [
    "# MinMaxScaler\n",
    "\n",
    "from sklearn.preprocessing import MinMaxScaler\n",
    "\n",
    "scaler = MinMaxScaler()\n",
    "\n",
    "scaler.fit(iris_df)\n",
    "iris_scaled = scaler.transform(iris_df)\n",
    "\n",
    "iris_df_scaled = pd.DataFrame(data=iris_scaled, columns = iris.feature_names)\n",
    "\n",
    "# 변환된 데이터 확인\n",
    "print('')\n",
    "print('feature들의 평균 값')\n",
    "print(iris_df_scaled.mean())\n",
    "print('\\nfeature들의 분산 값')\n",
    "print(iris_df_scaled.var())"
   ]
  },
  {
   "cell_type": "code",
   "execution_count": 40,
   "id": "floral-intro",
   "metadata": {},
   "outputs": [
    {
     "name": "stdout",
     "output_type": "stream",
     "text": [
      "[[ 0]\n",
      " [ 1]\n",
      " [ 2]\n",
      " [ 3]\n",
      " [ 4]\n",
      " [ 5]\n",
      " [ 6]\n",
      " [ 7]\n",
      " [ 8]\n",
      " [ 9]\n",
      " [10]]\n",
      "[[0]\n",
      " [1]\n",
      " [2]\n",
      " [3]\n",
      " [4]\n",
      " [5]]\n"
     ]
    }
   ],
   "source": [
    "# 피처 스케일링 유의점\n",
    "train_array = np.arange(0,11).reshape(-1,1)\n",
    "test_array = np.arange(0,6).reshape(-1,1)\n",
    "print(train_array)\n",
    "print(test_array)"
   ]
  },
  {
   "cell_type": "code",
   "execution_count": 42,
   "id": "recovered-lighting",
   "metadata": {},
   "outputs": [
    {
     "name": "stdout",
     "output_type": "stream",
     "text": [
      "원본 train_array 데이터: [ 0  1  2  3  4  5  6  7  8  9 10]\n",
      "Scaled train_array 데이터: [0.  0.1 0.2 0.3 0.4 0.5 0.6 0.7 0.8 0.9 1. ]\n"
     ]
    }
   ],
   "source": [
    "scaler = MinMaxScaler()\n",
    "scaler.fit(train_array)\n",
    "\n",
    "train_scaled = scaler.transform(train_array)\n",
    "\n",
    "print('원본 train_array 데이터:',np.round(train_array.reshape(-1),2))\n",
    "print('Scaled train_array 데이터:',np.round(train_scaled.reshape(-1),2))"
   ]
  },
  {
   "cell_type": "code",
   "execution_count": 45,
   "id": "professional-hospital",
   "metadata": {},
   "outputs": [
    {
     "name": "stdout",
     "output_type": "stream",
     "text": [
      "원본 test_array 데이터 [0 1 2 3 4 5]\n",
      "Scaled test_array 데이터: [0.  0.2 0.4 0.6 0.8 1. ]\n"
     ]
    }
   ],
   "source": [
    "# 잘못된 테스트 데이터 스케일링\n",
    "\n",
    "scaler.fit(test_array)\n",
    "\n",
    "test_scaled = scaler.transform(test_array)\n",
    "\n",
    "print('원본 test_array 데이터', np.round(test_array.reshape(-1),2))\n",
    "print('Scaled test_array 데이터:',np.round(test_scaled.reshape(-1),2))"
   ]
  },
  {
   "cell_type": "code",
   "execution_count": 46,
   "id": "simplified-toronto",
   "metadata": {},
   "outputs": [
    {
     "name": "stdout",
     "output_type": "stream",
     "text": [
      "원본 train_array 데이터: [ 0  1  2  3  4  5  6  7  8  9 10]\n",
      "Scaled train_array 데이터: [0.  0.1 0.2 0.3 0.4 0.5 0.6 0.7 0.8 0.9 1. ]\n",
      "원본 test_array 데이터 [0 1 2 3 4 5]\n",
      "Scaled test_array 데이터: [0.  0.1 0.2 0.3 0.4 0.5]\n"
     ]
    }
   ],
   "source": [
    "# 올바른 테스트 데이터 스케일링\n",
    "scaler = MinMaxScaler()\n",
    "scaler.fit(train_array)\n",
    "\n",
    "train_scaled = scaler.transform(train_array)\n",
    "\n",
    "print('원본 train_array 데이터:',np.round(train_array.reshape(-1),2))\n",
    "print('Scaled train_array 데이터:',np.round(train_scaled.reshape(-1),2))\n",
    "\n",
    "test_scaled = scaler.transform(test_array)\n",
    "\n",
    "print('원본 test_array 데이터', np.round(test_array.reshape(-1),2))\n",
    "print('Scaled test_array 데이터:',np.round(test_scaled.reshape(-1),2))"
   ]
  },
  {
   "cell_type": "markdown",
   "id": "frozen-guatemala",
   "metadata": {},
   "source": [
    "#  사이킷런 활용"
   ]
  },
  {
   "cell_type": "code",
   "execution_count": 47,
   "id": "inappropriate-consumption",
   "metadata": {},
   "outputs": [
    {
     "data": {
      "text/html": [
       "<div>\n",
       "<style scoped>\n",
       "    .dataframe tbody tr th:only-of-type {\n",
       "        vertical-align: middle;\n",
       "    }\n",
       "\n",
       "    .dataframe tbody tr th {\n",
       "        vertical-align: top;\n",
       "    }\n",
       "\n",
       "    .dataframe thead th {\n",
       "        text-align: right;\n",
       "    }\n",
       "</style>\n",
       "<table border=\"1\" class=\"dataframe\">\n",
       "  <thead>\n",
       "    <tr style=\"text-align: right;\">\n",
       "      <th></th>\n",
       "      <th>PassengerId</th>\n",
       "      <th>Survived</th>\n",
       "      <th>Pclass</th>\n",
       "      <th>Name</th>\n",
       "      <th>Sex</th>\n",
       "      <th>Age</th>\n",
       "      <th>SibSp</th>\n",
       "      <th>Parch</th>\n",
       "      <th>Ticket</th>\n",
       "      <th>Fare</th>\n",
       "      <th>Cabin</th>\n",
       "      <th>Embarked</th>\n",
       "    </tr>\n",
       "  </thead>\n",
       "  <tbody>\n",
       "    <tr>\n",
       "      <th>0</th>\n",
       "      <td>1</td>\n",
       "      <td>0</td>\n",
       "      <td>3</td>\n",
       "      <td>Braund, Mr. Owen Harris</td>\n",
       "      <td>male</td>\n",
       "      <td>22.0</td>\n",
       "      <td>1</td>\n",
       "      <td>0</td>\n",
       "      <td>A/5 21171</td>\n",
       "      <td>7.2500</td>\n",
       "      <td>NaN</td>\n",
       "      <td>S</td>\n",
       "    </tr>\n",
       "    <tr>\n",
       "      <th>1</th>\n",
       "      <td>2</td>\n",
       "      <td>1</td>\n",
       "      <td>1</td>\n",
       "      <td>Cumings, Mrs. John Bradley (Florence Briggs Th...</td>\n",
       "      <td>female</td>\n",
       "      <td>38.0</td>\n",
       "      <td>1</td>\n",
       "      <td>0</td>\n",
       "      <td>PC 17599</td>\n",
       "      <td>71.2833</td>\n",
       "      <td>C85</td>\n",
       "      <td>C</td>\n",
       "    </tr>\n",
       "    <tr>\n",
       "      <th>2</th>\n",
       "      <td>3</td>\n",
       "      <td>1</td>\n",
       "      <td>3</td>\n",
       "      <td>Heikkinen, Miss. Laina</td>\n",
       "      <td>female</td>\n",
       "      <td>26.0</td>\n",
       "      <td>0</td>\n",
       "      <td>0</td>\n",
       "      <td>STON/O2. 3101282</td>\n",
       "      <td>7.9250</td>\n",
       "      <td>NaN</td>\n",
       "      <td>S</td>\n",
       "    </tr>\n",
       "  </tbody>\n",
       "</table>\n",
       "</div>"
      ],
      "text/plain": [
       "   PassengerId  Survived  Pclass  \\\n",
       "0            1         0       3   \n",
       "1            2         1       1   \n",
       "2            3         1       3   \n",
       "\n",
       "                                                Name     Sex   Age  SibSp  \\\n",
       "0                            Braund, Mr. Owen Harris    male  22.0      1   \n",
       "1  Cumings, Mrs. John Bradley (Florence Briggs Th...  female  38.0      1   \n",
       "2                             Heikkinen, Miss. Laina  female  26.0      0   \n",
       "\n",
       "   Parch            Ticket     Fare Cabin Embarked  \n",
       "0      0         A/5 21171   7.2500   NaN        S  \n",
       "1      0          PC 17599  71.2833   C85        C  \n",
       "2      0  STON/O2. 3101282   7.9250   NaN        S  "
      ]
     },
     "execution_count": 47,
     "metadata": {},
     "output_type": "execute_result"
    }
   ],
   "source": [
    "#titanic data 불러오기\n",
    "import numpy as np\n",
    "import pandas as pd\n",
    "import matplotlib.pyplot as plt\n",
    "import seaborn as sns\n",
    "%matplotlib inline\n",
    "\n",
    "titanic_df = pd.read_csv('titanic_train.csv')\n",
    "titanic_df.head(3)"
   ]
  },
  {
   "cell_type": "code",
   "execution_count": 48,
   "id": "extra-building",
   "metadata": {},
   "outputs": [
    {
     "name": "stdout",
     "output_type": "stream",
     "text": [
      "\n",
      " ### 학습 데이터 정보 ### \n",
      "\n",
      "<class 'pandas.core.frame.DataFrame'>\n",
      "RangeIndex: 891 entries, 0 to 890\n",
      "Data columns (total 12 columns):\n",
      " #   Column       Non-Null Count  Dtype  \n",
      "---  ------       --------------  -----  \n",
      " 0   PassengerId  891 non-null    int64  \n",
      " 1   Survived     891 non-null    int64  \n",
      " 2   Pclass       891 non-null    int64  \n",
      " 3   Name         891 non-null    object \n",
      " 4   Sex          891 non-null    object \n",
      " 5   Age          714 non-null    float64\n",
      " 6   SibSp        891 non-null    int64  \n",
      " 7   Parch        891 non-null    int64  \n",
      " 8   Ticket       891 non-null    object \n",
      " 9   Fare         891 non-null    float64\n",
      " 10  Cabin        204 non-null    object \n",
      " 11  Embarked     889 non-null    object \n",
      "dtypes: float64(2), int64(5), object(5)\n",
      "memory usage: 83.7+ KB\n",
      "None\n"
     ]
    }
   ],
   "source": [
    "print('\\n ### 학습 데이터 정보 ### \\n')\n",
    "print(titanic_df.info())"
   ]
  },
  {
   "cell_type": "code",
   "execution_count": 49,
   "id": "middle-bernard",
   "metadata": {},
   "outputs": [
    {
     "name": "stdout",
     "output_type": "stream",
     "text": [
      "데이터 세트 Null 값 개수 0\n"
     ]
    }
   ],
   "source": [
    "titanic_df['Age'].fillna(titanic_df['Age'].mean(), inplace = True)\n",
    "titanic_df['Cabin'].fillna('N', inplace=True) # an으로 변환\n",
    "titanic_df['Embarked'].fillna('N', inplace=True)\n",
    "print('데이터 세트 Null 값 개수', titanic_df.isnull().sum().sum())"
   ]
  },
  {
   "cell_type": "code",
   "execution_count": 50,
   "id": "foreign-expansion",
   "metadata": {},
   "outputs": [
    {
     "name": "stdout",
     "output_type": "stream",
     "text": [
      " Sex 값 분포 :\n",
      " male      577\n",
      "female    314\n",
      "Name: Sex, dtype: int64\n",
      "\n",
      " Cabin 값 분포 :\n",
      " N              687\n",
      "G6               4\n",
      "C23 C25 C27      4\n",
      "B96 B98          4\n",
      "E101             3\n",
      "              ... \n",
      "C86              1\n",
      "E50              1\n",
      "B102             1\n",
      "B73              1\n",
      "E31              1\n",
      "Name: Cabin, Length: 148, dtype: int64\n",
      "\n",
      " Embarked 값 분포 :\n",
      " S    644\n",
      "C    168\n",
      "Q     77\n",
      "N      2\n",
      "Name: Embarked, dtype: int64\n"
     ]
    }
   ],
   "source": [
    "# 전처리 된 데이터 확인하기\n",
    "print(' Sex 값 분포 :\\n', titanic_df['Sex'].value_counts())\n",
    "print('\\n Cabin 값 분포 :\\n', titanic_df['Cabin'].value_counts())\n",
    "print('\\n Embarked 값 분포 :\\n', titanic_df['Embarked'].value_counts())"
   ]
  },
  {
   "cell_type": "code",
   "execution_count": 51,
   "id": "binary-double",
   "metadata": {},
   "outputs": [],
   "source": [
    "# 전체 데이터 전처리하는 함수 만들기\n",
    "from sklearn.preprocessing import LabelEncoder\n",
    "\n",
    "def fillna(df):\n",
    "    df['Age'].fillna(df['Age'].mean(), inplace = True)\n",
    "    df['Cabin'].fillna('N', inplace=True)\n",
    "    df['Embarked'].fillna('N', inplace=True)\n",
    "    df['Fare'].fillna(0, inplace=True)\n",
    "    return df\n",
    "\n",
    "# 머신러닝 알고리즘에 불필요한 속성 제거\n",
    "def drop_features(df):\n",
    "    df.drop(['PassengerId', 'Name','Ticket'], axis=1, inplace=True)\n",
    "    return df\n",
    "\n",
    "# 레이블 인코딩 수행\n",
    "def format_features(df):\n",
    "    df['Cabin']=df['Cabin'].str[:1]\n",
    "    features = ['Cabin','Sex','Embarked']\n",
    "    for feature in features:\n",
    "        le = LabelEncoder()\n",
    "        le = le.fit(df[feature])\n",
    "        df[feature] = le.transform(df[feature])\n",
    "    return df\n",
    "\n",
    "# 앞에서 설정한 데이터 전처리 함수 호출\n",
    "def transform_features(df):\n",
    "    df = fillna(df)\n",
    "    df = drop_features(df)\n",
    "    df = format_features(df)\n",
    "    \n",
    "    return df"
   ]
  },
  {
   "cell_type": "code",
   "execution_count": 54,
   "id": "joint-guidance",
   "metadata": {},
   "outputs": [
    {
     "data": {
      "text/plain": [
       "<AxesSubplot:xlabel='Sex', ylabel='Survived'>"
      ]
     },
     "execution_count": 54,
     "metadata": {},
     "output_type": "execute_result"
    },
    {
     "data": {
      "image/png": "[encoded data removed]",
      "text/plain": [
       "<Figure size 432x288 with 1 Axes>"
      ]
     },
     "metadata": {
      "needs_background": "light"
     },
     "output_type": "display_data"
    }
   ],
   "source": [
    "# 성별 객실 등급별 생존 확률 시각화\n",
    "\n",
    "titanic_df.groupby(['Sex','Survived'])['Survived'].count()\n",
    "\n",
    "sns.barplot(x = 'Sex',y='Survived',data=titanic_df)"
   ]
  },
  {
   "cell_type": "code",
   "execution_count": 55,
   "id": "bottom-mother",
   "metadata": {},
   "outputs": [
    {
     "data": {
      "text/plain": [
       "<AxesSubplot:xlabel='Pclass', ylabel='Survived'>"
      ]
     },
     "execution_count": 55,
     "metadata": {},
     "output_type": "execute_result"
    },
    {
     "data": {
      "image/png": "[encoded data removed]",
      "text/plain": [
       "<Figure size 432x288 with 1 Axes>"
      ]
     },
     "metadata": {
      "needs_background": "light"
     },
     "output_type": "display_data"
    }
   ],
   "source": [
    "sns.barplot(x='Pclass', y='Survived',hue='Sex',data=titanic_df)"
   ]
  },
  {
   "cell_type": "code",
   "execution_count": 57,
   "id": "distant-worry",
   "metadata": {},
   "outputs": [
    {
     "data": {
      "image/png": "[encoded data removed]",
      "text/plain": [
       "<Figure size 720x432 with 1 Axes>"
      ]
     },
     "metadata": {
      "needs_background": "light"
     },
     "output_type": "display_data"
    }
   ],
   "source": [
    "# Age에 따라 분류. 그에 대한 생존확률\n",
    "def get_category(age):\n",
    "    cat=''\n",
    "    if age <= -1: cat='Unknown'\n",
    "    elif age <=5 : cat='Baby'\n",
    "    elif age <=12 : cat='Child'\n",
    "    elif age <=18 : cat='Teenager'\n",
    "    elif age <=25 : cat='Student'\n",
    "    elif age <=35 : cat='Young Adult'\n",
    "    elif age <=0 : cat='Adult'\n",
    "    else: cat='Elderly'\n",
    "    return cat\n",
    "\n",
    "plt.figure(figsize=(10,6))\n",
    "group_names = ['Unknown', 'Baby' 'Child', 'Teenager', 'Student','Young Adult','Adult','Elderly']\n",
    "\n",
    "titanic_df['Age_cat']=titanic_df['Age'].apply(lambda x: get_category(x))\n",
    "sns.barplot(x='Age_cat', y='Survived', hue='Sex',data=titanic_df, order=group_names)\n",
    "titanic_df.drop('Age_cat', axis=1, inplace=True)"
   ]
  },
  {
   "cell_type": "code",
   "execution_count": 61,
   "id": "standard-saver",
   "metadata": {},
   "outputs": [],
   "source": [
    "y_titanic_df = titanic_df['Survived']\n",
    "X_titanic_df = titanic_df.drop('Survived', axis=1)\n",
    "\n",
    "X_titanic_df = transform_features(X_titanic_df)\n",
    "\n",
    "from sklearn.model_selection import train_test_split\n",
    "X_train, X_test, y_train, y_test =train_test_split(X_titanic_df, y_titanic_df, test_size=0.2, random_state=11)"
   ]
  },
  {
   "cell_type": "code",
   "execution_count": 63,
   "id": "beginning-clark",
   "metadata": {},
   "outputs": [
    {
     "name": "stdout",
     "output_type": "stream",
     "text": [
      "DecisionTreeClassifier 정확도 :0.7877\n",
      "RandomForestClassifier 정확도 :0.7877\n",
      "LogisticRegression 정확도 :0.7877\n"
     ]
    },
    {
     "name": "stderr",
     "output_type": "stream",
     "text": [
      "C:\\Users\\banan\\.conda\\envs\\dsfs\\lib\\site-packages\\sklearn\\linear_model\\_logistic.py:764: ConvergenceWarning: lbfgs failed to converge (status=1):\n",
      "STOP: TOTAL NO. of ITERATIONS REACHED LIMIT.\n",
      "\n",
      "Increase the number of iterations (max_iter) or scale the data as shown in:\n",
      "    https://scikit-learn.org/stable/modules/preprocessing.html\n",
      "Please also refer to the documentation for alternative solver options:\n",
      "    https://scikit-learn.org/stable/modules/linear_model.html#logistic-regression\n",
      "  extra_warning_msg=_LOGISTIC_SOLVER_CONVERGENCE_MSG)\n"
     ]
    }
   ],
   "source": [
    "from sklearn.tree import DecisionTreeClassifier\n",
    "from sklearn.ensemble import RandomForestClassifier\n",
    "from sklearn.linear_model import LogisticRegression\n",
    "from sklearn.metrics import accuracy_score\n",
    "\n",
    "dt_clf = DecisionTreeClassifier(random_state=11)\n",
    "rf_clf = RandomForestClassifier(random_state=11)\n",
    "lr_clf = LogisticRegression()\n",
    "\n",
    "dt_clf.fit(X_train, y_train)\n",
    "dt_pred = dt_clf.predict(X_test)\n",
    "print('DecisionTreeClassifier 정확도 :{0:.4f}'.format(accuracy_score(y_test, dt_pred)))\n",
    "\n",
    "rf_clf.fit(X_train, y_train)\n",
    "rf_pred = rf_clf.predict(X_test)\n",
    "print('RandomForestClassifier 정확도 :{0:.4f}'.format(accuracy_score(y_test, dt_pred)))\n",
    "\n",
    "lr_clf.fit(X_train, y_train)\n",
    "lr_pred = lr_clf.predict(X_test)\n",
    "print('LogisticRegression 정확도 :{0:.4f}'.format(accuracy_score(y_test, dt_pred)))\n"
   ]
  },
  {
   "cell_type": "code",
   "execution_count": 65,
   "id": "exceptional-jones",
   "metadata": {},
   "outputs": [
    {
     "name": "stdout",
     "output_type": "stream",
     "text": [
      "교차 검증 0 정확도 : 0.7542\n",
      "교차 검증 1 정확도 : 0.7809\n",
      "교차 검증 2 정확도 : 0.7865\n",
      "교차 검증 3 정확도 : 0.7697\n",
      "교차 검증 4 정확도 : 0.8202\n",
      "평균 정확도 : 0.7823\n"
     ]
    }
   ],
   "source": [
    "# Kfold 교차 검증\n",
    "from sklearn.model_selection import KFold\n",
    "\n",
    "def exec_kfold(clf, folds=5):\n",
    "    kfold = KFold(n_splits=folds)\n",
    "    scores=[]\n",
    "    \n",
    "    for iter_count, (train_index, test_index) in enumerate(kfold.split(X_titanic_df)):\n",
    "        X_train, X_test = X_titanic_df.values[train_index], X_titanic_df.values[test_index]\n",
    "        y_train, y_test = y_titanic_df.values[train_index], y_titanic_df.values[test_index]\n",
    "        clf.fit(X_train, y_train)\n",
    "        predictions = clf.predict(X_test)\n",
    "        accuracy = accuracy_score(y_test, predictions)\n",
    "        scores.append(accuracy)\n",
    "        print(\"교차 검증 {0} 정확도 : {1:.4f}\".format(iter_count, accuracy))\n",
    "        \n",
    "    mean_score = np.mean(scores)\n",
    "    print(\"평균 정확도 : {0:.4f}\".format(mean_score))\n",
    "exec_kfold(dt_clf, folds=5)"
   ]
  },
  {
   "cell_type": "code",
   "execution_count": 66,
   "id": "hearing-habitat",
   "metadata": {},
   "outputs": [
    {
     "name": "stdout",
     "output_type": "stream",
     "text": [
      "고차 검증 0 정확도 : 0.7430\n",
      "고차 검증 1 정확도 : 0.7753\n",
      "고차 검증 2 정확도 : 0.7921\n",
      "고차 검증 3 정확도 : 0.7865\n",
      "고차 검증 4 정확도 : 0.8427\n",
      "평균 정확도: 0.7879\n"
     ]
    }
   ],
   "source": [
    "# cross_val_score() 적용\n",
    "\n",
    "from sklearn.model_selection import cross_val_score\n",
    "\n",
    "scores = cross_val_score(dt_clf, X_titanic_df, y_titanic_df, cv=5)\n",
    "for iter_count, accuracy in enumerate(scores):\n",
    "    print(\"고차 검증 {0} 정확도 : {1:.4f}\".format(iter_count, accuracy))\n",
    "    \n",
    "print('평균 정확도: {0:.4f}'.format(np.mean(scores)))"
   ]
  },
  {
   "cell_type": "code",
   "execution_count": 68,
   "id": "knowing-accused",
   "metadata": {},
   "outputs": [
    {
     "name": "stdout",
     "output_type": "stream",
     "text": [
      "GridSearchCV 최적 하이퍼 파라미터 : {'max_depth': 3, 'min_samples_leaf': 5, 'min_samples_split': 2}\n",
      "GridSearchCV 최고 정확도: 0.7992\n",
      "테스트 세트에서의 DecisionTreeClassifier 정확도 : 0.8715\n"
     ]
    }
   ],
   "source": [
    "# GridSearchCV 적용\n",
    "\n",
    "from sklearn.model_selection import GridSearchCV\n",
    "\n",
    "parameters = {'max_depth':[2,3,5,10], 'min_samples_split':[2,3,5], 'min_samples_leaf':[1,5,8]}\n",
    "\n",
    "grid_dclf = GridSearchCV(dt_clf, param_grid=parameters, scoring='accuracy', cv=5)\n",
    "grid_dclf.fit(X_train, y_train)\n",
    "\n",
    "print('GridSearchCV 최적 하이퍼 파라미터 :', grid_dclf.best_params_)\n",
    "print('GridSearchCV 최고 정확도: {0:.4f}'.format(grid_dclf.best_score_))\n",
    "best_dclf = grid_dclf.best_estimator_\n",
    "\n",
    "dpredictions = best_dclf.predict(X_test)\n",
    "accuracy = accuracy_score(y_test, dpredictions)\n",
    "print('테스트 세트에서의 DecisionTreeClassifier 정확도 : {0:.4f}'.format(accuracy))"
   ]
  },
  {
   "cell_type": "code",
   "execution_count": null,
   "id": "popular-silence",
   "metadata": {},
   "outputs": [],
   "source": []
  }
 ],
 "metadata": {
  "kernelspec": {
   "display_name": "Python 3",
   "language": "python",
   "name": "python3"
  },
  "language_info": {
   "codemirror_mode": {
    "name": "ipython",
    "version": 3
   },
   "file_extension": ".py",
   "mimetype": "text/x-python",
   "name": "python",
   "nbconvert_exporter": "python",
   "pygments_lexer": "ipython3",
   "version": "3.6.12"
  }
 },
 "nbformat": 4,
 "nbformat_minor": 5
}
